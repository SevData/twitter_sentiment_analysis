{
 "cells": [
  {
   "cell_type": "markdown",
   "metadata": {},
   "source": [
    "<img src=\"http://www.kitquant.com/kqimages/logo_card_cropped.png\" alt=\"Drawing\" style=\"width: 180px;\" align=\"center\"/><center>"
   ]
  },
  {
   "cell_type": "markdown",
   "metadata": {},
   "source": [
    "# Sentiment Analysis for financial data tutorial in Python"
   ]
  },
  {
   "cell_type": "markdown",
   "metadata": {},
   "source": [
    "This tutorial aims to present different NLP (Natural Language Processing) techniques:\n",
    "- **Sentiment Analysis** : Exctracting the sentiment from the text (is a news positive or negative, etc..).\n",
    "- **Preprocessing** : The data always needs to be preprocessed in order to be able to extract relevant information.\n",
    "- **Label Propagation** : Completing the sentiment analysis model using label propagation.\n",
    "- **Classificaiton models** : How do we build a Machine Learning model using text as features."
   ]
  },
  {
   "cell_type": "markdown",
   "metadata": {},
   "source": [
    "### Importing the libraries"
   ]
  },
  {
   "cell_type": "code",
   "execution_count": 1,
   "metadata": {},
   "outputs": [],
   "source": [
    "import pandas as pd\n",
    "# NLP library for preprocessing\n",
    "import nltk\n",
    "# Progression bar\n",
    "from tqdm import tqdm\n",
    "import os\n",
    "import datetime\n",
    "import matplotlib.pyplot as plt\n",
    "import seaborn"
   ]
  },
  {
   "cell_type": "markdown",
   "metadata": {},
   "source": [
    "### Importing and cleaning the data"
   ]
  },
  {
   "cell_type": "markdown",
   "metadata": {},
   "source": [
    "**Twitter data :**"
   ]
  },
  {
   "cell_type": "code",
   "execution_count": 2,
   "metadata": {},
   "outputs": [],
   "source": [
    "path_twitter = \"twitter_data/\"\n",
    "l_files = os.listdir(path_twitter)"
   ]
  },
  {
   "cell_type": "markdown",
   "metadata": {},
   "source": [
    "Some files are not well written and could not be parsed easily with pandas, we will ignore them."
   ]
  },
  {
   "cell_type": "code",
   "execution_count": 3,
   "metadata": {},
   "outputs": [
    {
     "name": "stderr",
     "output_type": "stream",
     "text": [
      "100%|██████████| 13948/13948 [00:31<00:00, 437.56it/s]\n"
     ]
    }
   ],
   "source": [
    "# Reading all files and concatening them\n",
    "l_datas = []\n",
    "\n",
    "for f_read in tqdm(l_files):\n",
    "    try:\n",
    "        data_tmp = pd.read_csv(path_twitter + f_read, compression='gzip', header=None, engine=\"python\",\n",
    "                               names=[\"Symbol\", \"Id\", \"Date_raw\", \"Author\", \"Hashtag\", \"Tweet\"])\n",
    "        l_datas.append(data_tmp)\n",
    "    except Exception as e:\n",
    "        # one could prind the exception with print(e) or apply a special treatment\n",
    "        pass\n",
    "\n",
    "data_twitter = pd.concat(l_datas)"
   ]
  },
  {
   "cell_type": "code",
   "execution_count": 4,
   "metadata": {},
   "outputs": [
    {
     "name": "stdout",
     "output_type": "stream",
     "text": [
      "The proportion of files kept is 95.8%\n"
     ]
    }
   ],
   "source": [
    "print(\"The proportion of files kept is {0:0.1%}\".format(len(l_datas) / float(len(l_files))))"
   ]
  },
  {
   "cell_type": "markdown",
   "metadata": {},
   "source": [
    "We will convert the date to two columns (Date and seconds from midnight) in order to reduce the storage and keep the same format as the stock data (integers require less space to store)."
   ]
  },
  {
   "cell_type": "code",
   "execution_count": null,
   "metadata": {},
   "outputs": [],
   "source": []
  },
  {
   "cell_type": "code",
   "execution_count": 5,
   "metadata": {},
   "outputs": [],
   "source": [
    "def extract_time(date_raw):\n",
    "    try:\n",
    "        date = datetime.datetime.strptime(date_raw.replace(\" +0000\", \"\"), '%a %b %d %H:%M:%S %Y')\n",
    "        return int((date - date.replace(hour=0, minute=0, second=0)).total_seconds())\n",
    "    except:\n",
    "        return\n",
    "        \n",
    "def extract_date(date_raw):\n",
    "    try:\n",
    "        date = datetime.datetime.strptime(date_raw.replace(\" +0000\", \"\"), '%a %b %d %H:%M:%S %Y').date()\n",
    "        date = int(date.strftime(\"%Y%m%d\"))\n",
    "        return date\n",
    "    except :\n",
    "        return"
   ]
  },
  {
   "cell_type": "code",
   "execution_count": 6,
   "metadata": {},
   "outputs": [],
   "source": [
    "data_twitter[\"Time\"] = data_twitter[\"Date_raw\"].apply(extract_time)\n",
    "data_twitter[\"Date\"] = data_twitter[\"Date_raw\"].apply(extract_date)"
   ]
  },
  {
   "cell_type": "markdown",
   "metadata": {},
   "source": [
    "We discard the author and the hashtag in this analysis. One could after add a relevance score per author."
   ]
  },
  {
   "cell_type": "code",
   "execution_count": 7,
   "metadata": {},
   "outputs": [],
   "source": [
    "col_keep = [\"Symbol\", \"Date\", \"Time\", \"Tweet\"]"
   ]
  },
  {
   "cell_type": "code",
   "execution_count": 8,
   "metadata": {},
   "outputs": [
    {
     "name": "stdout",
     "output_type": "stream",
     "text": [
      "820130\n",
      "819632\n"
     ]
    }
   ],
   "source": [
    "data_twitter = data_twitter[col_keep]\n",
    "print(len(data_twitter))\n",
    "data_twitter = data_twitter.dropna()\n",
    "print(len(data_twitter))"
   ]
  },
  {
   "cell_type": "code",
   "execution_count": 9,
   "metadata": {},
   "outputs": [
    {
     "data": {
      "text/html": [
       "<div>\n",
       "<style>\n",
       "    .dataframe thead tr:only-child th {\n",
       "        text-align: right;\n",
       "    }\n",
       "\n",
       "    .dataframe thead th {\n",
       "        text-align: left;\n",
       "    }\n",
       "\n",
       "    .dataframe tbody tr th {\n",
       "        vertical-align: top;\n",
       "    }\n",
       "</style>\n",
       "<table border=\"1\" class=\"dataframe\">\n",
       "  <thead>\n",
       "    <tr style=\"text-align: right;\">\n",
       "      <th></th>\n",
       "      <th>Symbol</th>\n",
       "      <th>Date</th>\n",
       "      <th>Time</th>\n",
       "      <th>Tweet</th>\n",
       "    </tr>\n",
       "  </thead>\n",
       "  <tbody>\n",
       "    <tr>\n",
       "      <th>0</th>\n",
       "      <td>MRK</td>\n",
       "      <td>20180105.0</td>\n",
       "      <td>85256.0</td>\n",
       "      <td>Investors Buy Shares of Merck &amp;amp; Co. Inc. $...</td>\n",
       "    </tr>\n",
       "    <tr>\n",
       "      <th>1</th>\n",
       "      <td>MRK</td>\n",
       "      <td>20180105.0</td>\n",
       "      <td>84269.0</td>\n",
       "      <td>#dcvax-l new better safe low-side-effects $fb ...</td>\n",
       "    </tr>\n",
       "    <tr>\n",
       "      <th>2</th>\n",
       "      <td>MRK</td>\n",
       "      <td>20180105.0</td>\n",
       "      <td>84105.0</td>\n",
       "      <td>$MRK high OI range is 55.00 to 56.00 for optio...</td>\n",
       "    </tr>\n",
       "    <tr>\n",
       "      <th>3</th>\n",
       "      <td>MRK</td>\n",
       "      <td>20180105.0</td>\n",
       "      <td>82936.0</td>\n",
       "      <td>$OPGN #beastmode afterhours; news coming Monda...</td>\n",
       "    </tr>\n",
       "    <tr>\n",
       "      <th>4</th>\n",
       "      <td>MRK</td>\n",
       "      <td>20180105.0</td>\n",
       "      <td>82236.0</td>\n",
       "      <td>Notable greedy companies who aren’t giving the...</td>\n",
       "    </tr>\n",
       "  </tbody>\n",
       "</table>\n",
       "</div>"
      ],
      "text/plain": [
       "  Symbol        Date     Time  \\\n",
       "0    MRK  20180105.0  85256.0   \n",
       "1    MRK  20180105.0  84269.0   \n",
       "2    MRK  20180105.0  84105.0   \n",
       "3    MRK  20180105.0  82936.0   \n",
       "4    MRK  20180105.0  82236.0   \n",
       "\n",
       "                                               Tweet  \n",
       "0  Investors Buy Shares of Merck &amp; Co. Inc. $...  \n",
       "1  #dcvax-l new better safe low-side-effects $fb ...  \n",
       "2  $MRK high OI range is 55.00 to 56.00 for optio...  \n",
       "3  $OPGN #beastmode afterhours; news coming Monda...  \n",
       "4  Notable greedy companies who aren’t giving the...  "
      ]
     },
     "execution_count": 9,
     "metadata": {},
     "output_type": "execute_result"
    }
   ],
   "source": [
    "data_twitter.head()"
   ]
  },
  {
   "cell_type": "markdown",
   "metadata": {},
   "source": [
    "**Stock data:**"
   ]
  },
  {
   "cell_type": "code",
   "execution_count": 10,
   "metadata": {},
   "outputs": [],
   "source": [
    "data_stocks = pd.read_csv(\"stocks.csv\", header=None,\n",
    "                          names=[\"Symbol\", \"Date\", \"Time\", \"Open\", \"High\", \"Low\", \"Close\", \"Volume\"])"
   ]
  },
  {
   "cell_type": "markdown",
   "metadata": {},
   "source": [
    "We convert the date to an integer:"
   ]
  },
  {
   "cell_type": "code",
   "execution_count": 11,
   "metadata": {},
   "outputs": [],
   "source": [
    "data_stocks[\"Date\"] = data_stocks[\"Date\"].apply(lambda x: int(x.replace(\"-\", \"\")))"
   ]
  },
  {
   "cell_type": "code",
   "execution_count": 12,
   "metadata": {},
   "outputs": [],
   "source": [
    "data_stocks[\"Time\"] = data_stocks[\"Time\"].apply(lambda x: int(x[:2]) * 60**2 + int(x[3:5]) * 60 + int(x[6:8]))"
   ]
  },
  {
   "cell_type": "code",
   "execution_count": 13,
   "metadata": {},
   "outputs": [
    {
     "data": {
      "text/html": [
       "<div>\n",
       "<style>\n",
       "    .dataframe thead tr:only-child th {\n",
       "        text-align: right;\n",
       "    }\n",
       "\n",
       "    .dataframe thead th {\n",
       "        text-align: left;\n",
       "    }\n",
       "\n",
       "    .dataframe tbody tr th {\n",
       "        vertical-align: top;\n",
       "    }\n",
       "</style>\n",
       "<table border=\"1\" class=\"dataframe\">\n",
       "  <thead>\n",
       "    <tr style=\"text-align: right;\">\n",
       "      <th></th>\n",
       "      <th>Symbol</th>\n",
       "      <th>Date</th>\n",
       "      <th>Time</th>\n",
       "      <th>Open</th>\n",
       "      <th>High</th>\n",
       "      <th>Low</th>\n",
       "      <th>Close</th>\n",
       "      <th>Volume</th>\n",
       "    </tr>\n",
       "  </thead>\n",
       "  <tbody>\n",
       "    <tr>\n",
       "      <th>0</th>\n",
       "      <td>A</td>\n",
       "      <td>20171227</td>\n",
       "      <td>34200</td>\n",
       "      <td>67.21</td>\n",
       "      <td>67.32</td>\n",
       "      <td>67.16</td>\n",
       "      <td>67.32</td>\n",
       "      <td>10726</td>\n",
       "    </tr>\n",
       "    <tr>\n",
       "      <th>1</th>\n",
       "      <td>A</td>\n",
       "      <td>20171227</td>\n",
       "      <td>34260</td>\n",
       "      <td>67.32</td>\n",
       "      <td>67.34</td>\n",
       "      <td>67.32</td>\n",
       "      <td>67.34</td>\n",
       "      <td>500</td>\n",
       "    </tr>\n",
       "    <tr>\n",
       "      <th>2</th>\n",
       "      <td>A</td>\n",
       "      <td>20171227</td>\n",
       "      <td>34320</td>\n",
       "      <td>67.28</td>\n",
       "      <td>67.28</td>\n",
       "      <td>67.23</td>\n",
       "      <td>67.23</td>\n",
       "      <td>400</td>\n",
       "    </tr>\n",
       "    <tr>\n",
       "      <th>3</th>\n",
       "      <td>A</td>\n",
       "      <td>20171227</td>\n",
       "      <td>34380</td>\n",
       "      <td>67.23</td>\n",
       "      <td>67.23</td>\n",
       "      <td>67.16</td>\n",
       "      <td>67.22</td>\n",
       "      <td>800</td>\n",
       "    </tr>\n",
       "    <tr>\n",
       "      <th>4</th>\n",
       "      <td>A</td>\n",
       "      <td>20171227</td>\n",
       "      <td>34500</td>\n",
       "      <td>67.23</td>\n",
       "      <td>67.26</td>\n",
       "      <td>67.23</td>\n",
       "      <td>67.26</td>\n",
       "      <td>600</td>\n",
       "    </tr>\n",
       "  </tbody>\n",
       "</table>\n",
       "</div>"
      ],
      "text/plain": [
       "  Symbol      Date   Time   Open   High    Low  Close  Volume\n",
       "0      A  20171227  34200  67.21  67.32  67.16  67.32   10726\n",
       "1      A  20171227  34260  67.32  67.34  67.32  67.34     500\n",
       "2      A  20171227  34320  67.28  67.28  67.23  67.23     400\n",
       "3      A  20171227  34380  67.23  67.23  67.16  67.22     800\n",
       "4      A  20171227  34500  67.23  67.26  67.23  67.26     600"
      ]
     },
     "execution_count": 13,
     "metadata": {},
     "output_type": "execute_result"
    }
   ],
   "source": [
    "data_stocks.head()"
   ]
  },
  {
   "cell_type": "code",
   "execution_count": 14,
   "metadata": {},
   "outputs": [],
   "source": [
    "def compute_returns_date_stock(data, l_returns, price=\"Open\"):\n",
    "    data = data.copy()\n",
    "    for ret in l_returns:\n",
    "        data[\"FuturReturn_{}\".format(ret)] = data[price].pct_change(periods=-ret) * 10**4\n",
    "        data[\"PastReturn_{}\".format(ret)] = data[price].pct_change(periods=ret) * 10**4\n",
    "    return data\n",
    "\n",
    "def compute_returns_stock(data_stock, l_returns, price=\"Open\"):\n",
    "    dates = data_stock.Date.unique()\n",
    "\n",
    "    l_datas_out = []\n",
    "    for date in dates:\n",
    "        data = data_stock[data_stock[\"Date\"] == date]\n",
    "        l_datas_out.append(compute_returns_date_stock(data, l_returns, price))\n",
    "\n",
    "    return pd.concat(l_datas_out)\n",
    "\n",
    "def compute_returns(data_stocks, l_returns, price=\"Open\"):\n",
    "    stocks = data_stocks.Symbol.unique()\n",
    "\n",
    "    l_datas_out = []\n",
    "    for stock in tqdm(stocks):\n",
    "        data_stock = data_stocks[data_stocks[\"Symbol\"] == stock]\n",
    "        l_datas_out.append(compute_returns_stock(data_stock, l_returns, price))\n",
    "\n",
    "    data_out = pd.concat(l_datas_out)\n",
    "    data_out.dropna(inplace=True)\n",
    "\n",
    "    return data_out"
   ]
  },
  {
   "cell_type": "markdown",
   "metadata": {},
   "source": [
    "These operations could be parallelized over a grid of computers or on the different processors of the computer."
   ]
  },
  {
   "cell_type": "code",
   "execution_count": 15,
   "metadata": {},
   "outputs": [],
   "source": [
    "returns = [5, 10, 15, 30, 60]"
   ]
  },
  {
   "cell_type": "code",
   "execution_count": 16,
   "metadata": {},
   "outputs": [
    {
     "name": "stderr",
     "output_type": "stream",
     "text": [
      "100%|██████████| 633/633 [16:02<00:00,  1.52s/it]\n"
     ]
    }
   ],
   "source": [
    "data_stocks = compute_returns(data_stocks, returns)"
   ]
  },
  {
   "cell_type": "markdown",
   "metadata": {},
   "source": [
    "** Merging the data **"
   ]
  },
  {
   "cell_type": "code",
   "execution_count": 17,
   "metadata": {},
   "outputs": [],
   "source": [
    "data_twitter = data_twitter.sort_values([\"Date\", \"Symbol\", \"Time\"])\n",
    "data_stocks = data_stocks.sort_values([\"Date\", \"Symbol\", \"Time\"])"
   ]
  },
  {
   "cell_type": "code",
   "execution_count": 18,
   "metadata": {},
   "outputs": [],
   "source": [
    "data_twitter['Time'] = data_twitter['Time'].astype(int)"
   ]
  },
  {
   "cell_type": "code",
   "execution_count": 19,
   "metadata": {},
   "outputs": [],
   "source": [
    "ret_past = [col for col in data_stocks.columns if \"PastReturn\" in col]\n",
    "ret_fut = [col for col in data_stocks.columns if \"FuturReturn\" in col]"
   ]
  },
  {
   "cell_type": "code",
   "execution_count": 20,
   "metadata": {},
   "outputs": [],
   "source": [
    "def merge_stock_date(data_twitter_stock_date, data_stock_date):\n",
    "    cols_common = [\"Symbol\", \"Date\", \"Time\"]\n",
    "    # global variables\n",
    "    cols_past = cols_common + ret_past\n",
    "    cols_fut = cols_common + ret_fut\n",
    "\n",
    "    # Dealing with past and futur return differently\n",
    "    data_all_fut = pd.merge_asof(data_twitter_stock_date, data_stock_date[cols_fut],\n",
    "                                 suffixes=(\"\", \"_2\"), on=\"Time\", direction=\"forward\")\n",
    "    data_all_past = pd.merge_asof(data_twitter_stock_date, data_stock_date[cols_past], \n",
    "                                  suffixes=(\"\", \"_2\"), on=\"Time\", direction=\"backward\")\n",
    "\n",
    "    data_all_fut.dropna(inplace=True)\n",
    "    data_all_past.dropna(inplace=True)\n",
    "\n",
    "    data_all_fut = data_all_fut[cols_common + [\"Tweet\"] + ret_fut]\n",
    "    data_all_past = data_all_past[cols_common + [\"Tweet\"] + ret_past]\n",
    "\n",
    "    data_all = data_all_fut.merge(data_all_past, on=\"Time\", suffixes=('', '_y'))\n",
    "\n",
    "    return data_all[cols_common + [\"Tweet\"] + ret_past + ret_fut]\n",
    "\n",
    "def merge_stock(data_twitter_stock, data_stock):\n",
    "    dates = data_twitter_stock.Date.unique()\n",
    "    l_datas_out_stock = []\n",
    "\n",
    "    for date in dates:\n",
    "        data_twitter_date_stock = data_twitter_stock[data_twitter_stock[\"Date\"] == date]\n",
    "        data_stock_date = data_stock[data_stock[\"Date\"] == date]\n",
    "        l_datas_out_stock.append(merge_stock_date(data_twitter_date_stock, data_stock_date))\n",
    "\n",
    "    return pd.concat(l_datas_out_stock)"
   ]
  },
  {
   "cell_type": "code",
   "execution_count": 21,
   "metadata": {},
   "outputs": [],
   "source": [
    "stocks = data_twitter.Symbol.unique()"
   ]
  },
  {
   "cell_type": "code",
   "execution_count": 22,
   "metadata": {
    "scrolled": true
   },
   "outputs": [
    {
     "name": "stderr",
     "output_type": "stream",
     "text": [
      "100%|██████████| 534/534 [40:47<00:00,  4.58s/it]\n"
     ]
    }
   ],
   "source": [
    "l_datas_out_all = []\n",
    "\n",
    "for stock in tqdm(stocks):\n",
    "    data_twitter_stock = data_twitter[data_twitter[\"Symbol\"] == stock]\n",
    "    data_stock = data_stocks[data_stocks[\"Symbol\"] == stock]\n",
    "    l_datas_out_all.append(merge_stock(data_twitter_stock, data_stock))"
   ]
  },
  {
   "cell_type": "code",
   "execution_count": 23,
   "metadata": {},
   "outputs": [],
   "source": [
    "data = pd.concat(l_datas_out_all)"
   ]
  },
  {
   "cell_type": "code",
   "execution_count": 24,
   "metadata": {},
   "outputs": [],
   "source": [
    "data.to_csv(\"data.csv\", index=False)"
   ]
  },
  {
   "cell_type": "code",
   "execution_count": 25,
   "metadata": {},
   "outputs": [
    {
     "data": {
      "text/html": [
       "<div>\n",
       "<style>\n",
       "    .dataframe thead tr:only-child th {\n",
       "        text-align: right;\n",
       "    }\n",
       "\n",
       "    .dataframe thead th {\n",
       "        text-align: left;\n",
       "    }\n",
       "\n",
       "    .dataframe tbody tr th {\n",
       "        vertical-align: top;\n",
       "    }\n",
       "</style>\n",
       "<table border=\"1\" class=\"dataframe\">\n",
       "  <thead>\n",
       "    <tr style=\"text-align: right;\">\n",
       "      <th></th>\n",
       "      <th>Symbol</th>\n",
       "      <th>Date</th>\n",
       "      <th>Time</th>\n",
       "      <th>Tweet</th>\n",
       "      <th>PastReturn_5</th>\n",
       "      <th>PastReturn_10</th>\n",
       "      <th>PastReturn_15</th>\n",
       "      <th>PastReturn_30</th>\n",
       "      <th>PastReturn_60</th>\n",
       "      <th>FuturReturn_5</th>\n",
       "      <th>FuturReturn_10</th>\n",
       "      <th>FuturReturn_15</th>\n",
       "      <th>FuturReturn_30</th>\n",
       "      <th>FuturReturn_60</th>\n",
       "    </tr>\n",
       "  </thead>\n",
       "  <tbody>\n",
       "    <tr>\n",
       "      <th>0</th>\n",
       "      <td>A</td>\n",
       "      <td>20171227.0</td>\n",
       "      <td>38425</td>\n",
       "      <td>Dimensional Fund Advisors LP Decreases Positio...</td>\n",
       "      <td>0.741895</td>\n",
       "      <td>-7.412898</td>\n",
       "      <td>7.423905</td>\n",
       "      <td>5.938242</td>\n",
       "      <td>11.883541</td>\n",
       "      <td>1.483900</td>\n",
       "      <td>0.000000</td>\n",
       "      <td>7.423905</td>\n",
       "      <td>2.968240</td>\n",
       "      <td>13.370970</td>\n",
       "    </tr>\n",
       "    <tr>\n",
       "      <th>1</th>\n",
       "      <td>A</td>\n",
       "      <td>20171227.0</td>\n",
       "      <td>38685</td>\n",
       "      <td>✅Binance ❌Poloniex ❌Bittrex  Move your trading...</td>\n",
       "      <td>-14.836795</td>\n",
       "      <td>-11.872959</td>\n",
       "      <td>-20.759193</td>\n",
       "      <td>-8.907363</td>\n",
       "      <td>-4.455666</td>\n",
       "      <td>-1.483680</td>\n",
       "      <td>4.453682</td>\n",
       "      <td>1.484120</td>\n",
       "      <td>1.484120</td>\n",
       "      <td>5.939124</td>\n",
       "    </tr>\n",
       "    <tr>\n",
       "      <th>2</th>\n",
       "      <td>A</td>\n",
       "      <td>20171227.0</td>\n",
       "      <td>40390</td>\n",
       "      <td>$SWAY $A $BEE $AT $A $BEE $IM $RAD</td>\n",
       "      <td>4.453682</td>\n",
       "      <td>1.484120</td>\n",
       "      <td>4.453682</td>\n",
       "      <td>-1.483680</td>\n",
       "      <td>2.968680</td>\n",
       "      <td>1.484120</td>\n",
       "      <td>8.911332</td>\n",
       "      <td>7.425007</td>\n",
       "      <td>10.398099</td>\n",
       "      <td>11.885307</td>\n",
       "    </tr>\n",
       "    <tr>\n",
       "      <th>3</th>\n",
       "      <td>A</td>\n",
       "      <td>20171227.0</td>\n",
       "      <td>42075</td>\n",
       "      <td>Sivik Global Healthcare Increased Agilent Tech...</td>\n",
       "      <td>-1.485001</td>\n",
       "      <td>-2.969562</td>\n",
       "      <td>-5.937361</td>\n",
       "      <td>-1.648325</td>\n",
       "      <td>-7.420600</td>\n",
       "      <td>0.000000</td>\n",
       "      <td>0.000000</td>\n",
       "      <td>-7.420600</td>\n",
       "      <td>1.485443</td>\n",
       "      <td>-4.453682</td>\n",
       "    </tr>\n",
       "    <tr>\n",
       "      <th>4</th>\n",
       "      <td>A</td>\n",
       "      <td>20171227.0</td>\n",
       "      <td>42689</td>\n",
       "      <td>Unknown - Commercial Break $A LISTEN LIVE HERE...</td>\n",
       "      <td>0.000000</td>\n",
       "      <td>-1.485001</td>\n",
       "      <td>-1.485001</td>\n",
       "      <td>-7.420600</td>\n",
       "      <td>1.485443</td>\n",
       "      <td>-1.485001</td>\n",
       "      <td>7.431629</td>\n",
       "      <td>5.944420</td>\n",
       "      <td>-1.485001</td>\n",
       "      <td>1.485443</td>\n",
       "    </tr>\n",
       "  </tbody>\n",
       "</table>\n",
       "</div>"
      ],
      "text/plain": [
       "  Symbol        Date   Time  \\\n",
       "0      A  20171227.0  38425   \n",
       "1      A  20171227.0  38685   \n",
       "2      A  20171227.0  40390   \n",
       "3      A  20171227.0  42075   \n",
       "4      A  20171227.0  42689   \n",
       "\n",
       "                                               Tweet  PastReturn_5  \\\n",
       "0  Dimensional Fund Advisors LP Decreases Positio...      0.741895   \n",
       "1  ✅Binance ❌Poloniex ❌Bittrex  Move your trading...    -14.836795   \n",
       "2                 $SWAY $A $BEE $AT $A $BEE $IM $RAD      4.453682   \n",
       "3  Sivik Global Healthcare Increased Agilent Tech...     -1.485001   \n",
       "4  Unknown - Commercial Break $A LISTEN LIVE HERE...      0.000000   \n",
       "\n",
       "   PastReturn_10  PastReturn_15  PastReturn_30  PastReturn_60  FuturReturn_5  \\\n",
       "0      -7.412898       7.423905       5.938242      11.883541       1.483900   \n",
       "1     -11.872959     -20.759193      -8.907363      -4.455666      -1.483680   \n",
       "2       1.484120       4.453682      -1.483680       2.968680       1.484120   \n",
       "3      -2.969562      -5.937361      -1.648325      -7.420600       0.000000   \n",
       "4      -1.485001      -1.485001      -7.420600       1.485443      -1.485001   \n",
       "\n",
       "   FuturReturn_10  FuturReturn_15  FuturReturn_30  FuturReturn_60  \n",
       "0        0.000000        7.423905        2.968240       13.370970  \n",
       "1        4.453682        1.484120        1.484120        5.939124  \n",
       "2        8.911332        7.425007       10.398099       11.885307  \n",
       "3        0.000000       -7.420600        1.485443       -4.453682  \n",
       "4        7.431629        5.944420       -1.485001        1.485443  "
      ]
     },
     "execution_count": 25,
     "metadata": {},
     "output_type": "execute_result"
    }
   ],
   "source": [
    "data.head()"
   ]
  },
  {
   "cell_type": "markdown",
   "metadata": {},
   "source": [
    "# Sentiment Analysis"
   ]
  },
  {
   "cell_type": "markdown",
   "metadata": {},
   "source": [
    "In order to extract the sentiment of the tweet, we will count the number of positive words (good, well, profit ..) and negative words (bad, decrease ..) in the tweet. \n",
    "\n",
    "The score for each tweet will be : number_+_words - number_-_words."
   ]
  },
  {
   "cell_type": "markdown",
   "metadata": {},
   "source": [
    "The model takes as input a list of positive words and a list of negative words (that could be found online or in the folder)."
   ]
  },
  {
   "cell_type": "code",
   "execution_count": 26,
   "metadata": {},
   "outputs": [],
   "source": [
    "class Analyzer():\n",
    "    \"\"\"Implements sentiment analysis.\"\"\"\n",
    "\n",
    "    def __init__(self, positives, negatives):\n",
    "        \"\"\"Initialize Analyzer.\"\"\"\n",
    "        text_positive = open(positives, \"r\")\n",
    "        positives_not_clean = text_positive.read().split(\";\")[-1].split(\"\\n\")\n",
    "        # Cleaning the data\n",
    "        self.positives = [word for word in positives_not_clean if word != \"\"]\n",
    "        \n",
    "        text_negative = open(negatives, \"r\")\n",
    "        negatives_not_clean = text_negative.read().split(\";\")[-1].split(\"\\n\")\n",
    "        # Cleaning the data\n",
    "        self.negatives = [word for word in negatives_not_clean if word != \"\"]\n",
    "\n",
    "        \n",
    "\n",
    "    def analyze(self, text):\n",
    "        \"\"\"Analyze text for sentiment, returning its score.\"\"\"\n",
    "\n",
    "        text = text.lower()\n",
    "        score = 0\n",
    "        for word in self.positives:\n",
    "            word = word.lower()\n",
    "            if word in text:\n",
    "                score += 1\n",
    "\n",
    "        for word in self.negatives:\n",
    "            word = word.lower()\n",
    "            if word in text:\n",
    "                score -= 1    \n",
    "        return score"
   ]
  },
  {
   "cell_type": "code",
   "execution_count": 27,
   "metadata": {},
   "outputs": [],
   "source": [
    "analyzer = Analyzer(\"positive-words.txt\", \"negative-words.txt\")"
   ]
  },
  {
   "cell_type": "code",
   "execution_count": 28,
   "metadata": {},
   "outputs": [],
   "source": [
    "data[\"Score\"] = data[\"Tweet\"].apply(analyzer.analyze)"
   ]
  },
  {
   "cell_type": "markdown",
   "metadata": {},
   "source": [
    "We will study the correlation between the non-null scores and the returns."
   ]
  },
  {
   "cell_type": "code",
   "execution_count": 29,
   "metadata": {},
   "outputs": [],
   "source": [
    "data_study = data[data[\"Score\"] != 0]"
   ]
  },
  {
   "cell_type": "markdown",
   "metadata": {},
   "source": [
    "We will plot the future return 15 minutes against the score:"
   ]
  },
  {
   "cell_type": "code",
   "execution_count": 30,
   "metadata": {},
   "outputs": [
    {
     "data": {
      "image/png": "[encoded data removed]",
      "text/plain": [
       "<matplotlib.figure.Figure at 0x11a3a79b0>"
      ]
     },
     "metadata": {},
     "output_type": "display_data"
    }
   ],
   "source": [
    "plt.figure()\n",
    "plt.plot(data_study[\"Score\"], data_study[\"FuturReturn_15\"], \"o\")\n",
    "plt.xlabel(\"Score\")\n",
    "plt.ylabel(\"FuturReturn_15\")\n",
    "plt.show()"
   ]
  },
  {
   "cell_type": "markdown",
   "metadata": {},
   "source": [
    "For better visualisation, we will group the scores:"
   ]
  },
  {
   "cell_type": "code",
   "execution_count": 31,
   "metadata": {},
   "outputs": [],
   "source": [
    "def group_scores(score):\n",
    "    if score < -5:\n",
    "        return -3\n",
    "    elif score < -2:\n",
    "        return -2\n",
    "    elif score < 0:\n",
    "        return -1\n",
    "    elif score < 2:\n",
    "        return 1\n",
    "    elif score < 5:\n",
    "        return 2\n",
    "    else:\n",
    "        return 3"
   ]
  },
  {
   "cell_type": "code",
   "execution_count": 32,
   "metadata": {},
   "outputs": [
    {
     "name": "stderr",
     "output_type": "stream",
     "text": [
      "/Library/Frameworks/Python.framework/Versions/3.6/lib/python3.6/site-packages/ipykernel_launcher.py:1: SettingWithCopyWarning: \n",
      "A value is trying to be set on a copy of a slice from a DataFrame.\n",
      "Try using .loc[row_indexer,col_indexer] = value instead\n",
      "\n",
      "See the caveats in the documentation: http://pandas.pydata.org/pandas-docs/stable/indexing.html#indexing-view-versus-copy\n",
      "  \"\"\"Entry point for launching an IPython kernel.\n"
     ]
    }
   ],
   "source": [
    "data_study[\"Score_group\"] = data_study[\"Score\"].apply(group_scores)"
   ]
  },
  {
   "cell_type": "code",
   "execution_count": 33,
   "metadata": {},
   "outputs": [
    {
     "name": "stderr",
     "output_type": "stream",
     "text": [
      "/Library/Frameworks/Python.framework/Versions/3.6/lib/python3.6/site-packages/numpy/core/fromnumeric.py:57: FutureWarning: reshape is deprecated and will raise in a subsequent release. Please use .values.reshape(...) instead\n",
      "  return getattr(obj, method)(*args, **kwds)\n"
     ]
    },
    {
     "data": {
      "image/png": "[encoded data removed]",
      "text/plain": [
       "<matplotlib.figure.Figure at 0x11a34c390>"
      ]
     },
     "metadata": {},
     "output_type": "display_data"
    }
   ],
   "source": [
    "data_study.boxplot(by=\"Score_group\", column=\"FuturReturn_15\")\n",
    "plt.ylim(-75, 75)\n",
    "plt.show()"
   ]
  },
  {
   "cell_type": "markdown",
   "metadata": {},
   "source": [
    "The past retrun 15 minutes:"
   ]
  },
  {
   "cell_type": "code",
   "execution_count": 34,
   "metadata": {},
   "outputs": [
    {
     "name": "stderr",
     "output_type": "stream",
     "text": [
      "/Library/Frameworks/Python.framework/Versions/3.6/lib/python3.6/site-packages/numpy/core/fromnumeric.py:57: FutureWarning: reshape is deprecated and will raise in a subsequent release. Please use .values.reshape(...) instead\n",
      "  return getattr(obj, method)(*args, **kwds)\n"
     ]
    },
    {
     "data": {
      "image/png": "[encoded data removed]",
      "text/plain": [
       "<matplotlib.figure.Figure at 0x11a098b00>"
      ]
     },
     "metadata": {},
     "output_type": "display_data"
    }
   ],
   "source": [
    "data_study.boxplot(by=\"Score_group\", column=\"PastReturn_15\")\n",
    "plt.ylim(-75, 75)\n",
    "plt.show()"
   ]
  },
  {
   "cell_type": "markdown",
   "metadata": {},
   "source": [
    "** Correlation according to the returns **"
   ]
  },
  {
   "cell_type": "code",
   "execution_count": 35,
   "metadata": {},
   "outputs": [],
   "source": [
    "data_corr = data_study.corr()"
   ]
  },
  {
   "cell_type": "code",
   "execution_count": 36,
   "metadata": {},
   "outputs": [],
   "source": [
    "returns = [5, 10, 15, 30, 60]\n",
    "corrs_past = [data_corr.loc[\"Score\", \"PastReturn_{}\".format(ret)] for ret in returns[::-1]]\n",
    "corrs_fut = [data_corr.loc[\"Score\", \"FuturReturn_{}\".format(ret)] for ret in returns]"
   ]
  },
  {
   "cell_type": "code",
   "execution_count": 37,
   "metadata": {},
   "outputs": [
    {
     "data": {
      "image/png": "[encoded data removed]",
      "text/plain": [
       "<matplotlib.figure.Figure at 0x13128e748>"
      ]
     },
     "metadata": {},
     "output_type": "display_data"
    }
   ],
   "source": [
    "plt.figure()\n",
    "corrs = corrs_past + corrs_fut\n",
    "plt.plot(range(len(corrs)), corrs)\n",
    "plt.xticks(range(len(corrs)), [-ret for ret in returns[::-1]] + returns)\n",
    "plt.xlabel(\"Horizon Return in minutes\")\n",
    "plt.ylabel(\"Correlation with the sentiment analysis score\")\n",
    "plt.title(\"Correlation of the sentiment analysis score with the returns\")\n",
    "plt.show()"
   ]
  },
  {
   "cell_type": "markdown",
   "metadata": {},
   "source": [
    "The correlation are not very stable as there is a lot of noise."
   ]
  },
  {
   "cell_type": "markdown",
   "metadata": {},
   "source": [
    "# Preprocessing - Word2vec"
   ]
  },
  {
   "cell_type": "markdown",
   "metadata": {},
   "source": [
    "## Preprocessing"
   ]
  },
  {
   "cell_type": "markdown",
   "metadata": {},
   "source": [
    "Before building an NLP model, one needs to preprocess the data. We will go through the different steps of preprocessing:\n",
    "- Removing the punctuation.\n",
    "- Removing the stop words (general words such as a, an, and, the ..) as they occur very often and don't add a lot of values.\n",
    "- Stemming the words ie extracting the root (having => have, has => have)."
   ]
  },
  {
   "cell_type": "markdown",
   "metadata": {},
   "source": [
    "**Lower the text**"
   ]
  },
  {
   "cell_type": "code",
   "execution_count": 38,
   "metadata": {},
   "outputs": [
    {
     "data": {
      "text/html": [
       "<div>\n",
       "<style>\n",
       "    .dataframe thead tr:only-child th {\n",
       "        text-align: right;\n",
       "    }\n",
       "\n",
       "    .dataframe thead th {\n",
       "        text-align: left;\n",
       "    }\n",
       "\n",
       "    .dataframe tbody tr th {\n",
       "        vertical-align: top;\n",
       "    }\n",
       "</style>\n",
       "<table border=\"1\" class=\"dataframe\">\n",
       "  <thead>\n",
       "    <tr style=\"text-align: right;\">\n",
       "      <th></th>\n",
       "      <th>Symbol</th>\n",
       "      <th>Date</th>\n",
       "      <th>Time</th>\n",
       "      <th>Tweet</th>\n",
       "    </tr>\n",
       "  </thead>\n",
       "  <tbody>\n",
       "    <tr>\n",
       "      <th>0</th>\n",
       "      <td>A</td>\n",
       "      <td>20171227.0</td>\n",
       "      <td>38425</td>\n",
       "      <td>dimensional fund advisors lp decreases positio...</td>\n",
       "    </tr>\n",
       "    <tr>\n",
       "      <th>1</th>\n",
       "      <td>A</td>\n",
       "      <td>20171227.0</td>\n",
       "      <td>38685</td>\n",
       "      <td>✅binance ❌poloniex ❌bittrex  move your trading...</td>\n",
       "    </tr>\n",
       "    <tr>\n",
       "      <th>2</th>\n",
       "      <td>A</td>\n",
       "      <td>20171227.0</td>\n",
       "      <td>40390</td>\n",
       "      <td>$sway $a $bee $at $a $bee $im $rad</td>\n",
       "    </tr>\n",
       "  </tbody>\n",
       "</table>\n",
       "</div>"
      ],
      "text/plain": [
       "  Symbol        Date   Time                                              Tweet\n",
       "0      A  20171227.0  38425  dimensional fund advisors lp decreases positio...\n",
       "1      A  20171227.0  38685  ✅binance ❌poloniex ❌bittrex  move your trading...\n",
       "2      A  20171227.0  40390                 $sway $a $bee $at $a $bee $im $rad"
      ]
     },
     "execution_count": 38,
     "metadata": {},
     "output_type": "execute_result"
    }
   ],
   "source": [
    "data['Tweet'] = data['Tweet'].apply(lambda x: x.lower())\n",
    "data.iloc[:,:4].head(3)"
   ]
  },
  {
   "cell_type": "markdown",
   "metadata": {
    "collapsed": true
   },
   "source": [
    "** Removing the punctuation **"
   ]
  },
  {
   "cell_type": "code",
   "execution_count": 39,
   "metadata": {},
   "outputs": [
    {
     "data": {
      "text/html": [
       "<div>\n",
       "<style>\n",
       "    .dataframe thead tr:only-child th {\n",
       "        text-align: right;\n",
       "    }\n",
       "\n",
       "    .dataframe thead th {\n",
       "        text-align: left;\n",
       "    }\n",
       "\n",
       "    .dataframe tbody tr th {\n",
       "        vertical-align: top;\n",
       "    }\n",
       "</style>\n",
       "<table border=\"1\" class=\"dataframe\">\n",
       "  <thead>\n",
       "    <tr style=\"text-align: right;\">\n",
       "      <th></th>\n",
       "      <th>Symbol</th>\n",
       "      <th>Date</th>\n",
       "      <th>Time</th>\n",
       "      <th>Tweet</th>\n",
       "    </tr>\n",
       "  </thead>\n",
       "  <tbody>\n",
       "    <tr>\n",
       "      <th>0</th>\n",
       "      <td>A</td>\n",
       "      <td>20171227.0</td>\n",
       "      <td>38425</td>\n",
       "      <td>dimensional fund advisors lp decreases positio...</td>\n",
       "    </tr>\n",
       "    <tr>\n",
       "      <th>1</th>\n",
       "      <td>A</td>\n",
       "      <td>20171227.0</td>\n",
       "      <td>38685</td>\n",
       "      <td>✅binance ❌poloniex ❌bittrex  move your trading...</td>\n",
       "    </tr>\n",
       "    <tr>\n",
       "      <th>2</th>\n",
       "      <td>A</td>\n",
       "      <td>20171227.0</td>\n",
       "      <td>40390</td>\n",
       "      <td>$sway $a $bee $at $a $bee $im $rad</td>\n",
       "    </tr>\n",
       "  </tbody>\n",
       "</table>\n",
       "</div>"
      ],
      "text/plain": [
       "  Symbol        Date   Time                                              Tweet\n",
       "0      A  20171227.0  38425  dimensional fund advisors lp decreases positio...\n",
       "1      A  20171227.0  38685  ✅binance ❌poloniex ❌bittrex  move your trading...\n",
       "2      A  20171227.0  40390                 $sway $a $bee $at $a $bee $im $rad"
      ]
     },
     "execution_count": 39,
     "metadata": {},
     "output_type": "execute_result"
    }
   ],
   "source": [
    "import string\n",
    "data['Tweet'] = data['Tweet'].apply(lambda x: x.translate(string.punctuation))\n",
    "data.iloc[:,:4].head(3)"
   ]
  },
  {
   "cell_type": "markdown",
   "metadata": {},
   "source": [
    "**Removing the emojis**"
   ]
  },
  {
   "cell_type": "markdown",
   "metadata": {},
   "source": [
    "Here we clean the emojis as the word2vec model does not support them, however if one has a personalized word2vec model one can keep them as they contain information."
   ]
  },
  {
   "cell_type": "code",
   "execution_count": 40,
   "metadata": {},
   "outputs": [
    {
     "data": {
      "text/html": [
       "<div>\n",
       "<style>\n",
       "    .dataframe thead tr:only-child th {\n",
       "        text-align: right;\n",
       "    }\n",
       "\n",
       "    .dataframe thead th {\n",
       "        text-align: left;\n",
       "    }\n",
       "\n",
       "    .dataframe tbody tr th {\n",
       "        vertical-align: top;\n",
       "    }\n",
       "</style>\n",
       "<table border=\"1\" class=\"dataframe\">\n",
       "  <thead>\n",
       "    <tr style=\"text-align: right;\">\n",
       "      <th></th>\n",
       "      <th>Symbol</th>\n",
       "      <th>Date</th>\n",
       "      <th>Time</th>\n",
       "      <th>Tweet</th>\n",
       "    </tr>\n",
       "  </thead>\n",
       "  <tbody>\n",
       "    <tr>\n",
       "      <th>0</th>\n",
       "      <td>A</td>\n",
       "      <td>20171227.0</td>\n",
       "      <td>38425</td>\n",
       "      <td>dimensional fund advisors lp decreases positio...</td>\n",
       "    </tr>\n",
       "    <tr>\n",
       "      <th>1</th>\n",
       "      <td>A</td>\n",
       "      <td>20171227.0</td>\n",
       "      <td>38685</td>\n",
       "      <td>✅binance ❌poloniex ❌bittrex  move your trading...</td>\n",
       "    </tr>\n",
       "    <tr>\n",
       "      <th>2</th>\n",
       "      <td>A</td>\n",
       "      <td>20171227.0</td>\n",
       "      <td>40390</td>\n",
       "      <td>$sway $a $bee $at $a $bee $im $rad</td>\n",
       "    </tr>\n",
       "  </tbody>\n",
       "</table>\n",
       "</div>"
      ],
      "text/plain": [
       "  Symbol        Date   Time                                              Tweet\n",
       "0      A  20171227.0  38425  dimensional fund advisors lp decreases positio...\n",
       "1      A  20171227.0  38685  ✅binance ❌poloniex ❌bittrex  move your trading...\n",
       "2      A  20171227.0  40390                 $sway $a $bee $at $a $bee $im $rad"
      ]
     },
     "execution_count": 40,
     "metadata": {},
     "output_type": "execute_result"
    }
   ],
   "source": [
    "#data['Tweet'] = data['Tweet'].apply(lambda x: filter(lambda y: y in string.printable, x))\n",
    "data.iloc[:,:4].head(3)"
   ]
  },
  {
   "cell_type": "markdown",
   "metadata": {},
   "source": [
    "** Removing the stopwords **"
   ]
  },
  {
   "cell_type": "markdown",
   "metadata": {},
   "source": [
    "Use nltk.download() in an ipython console to download the corpus stopwords."
   ]
  },
  {
   "cell_type": "code",
   "execution_count": 41,
   "metadata": {},
   "outputs": [],
   "source": [
    "# extracting the stopwords from nltk library\n",
    "sw = nltk.corpus.stopwords.words('english')"
   ]
  },
  {
   "cell_type": "code",
   "execution_count": 42,
   "metadata": {},
   "outputs": [
    {
     "name": "stdout",
     "output_type": "stream",
     "text": [
      "['i', 'me', 'my', 'myself', 'we', 'our', 'ours', 'ourselves', 'you', \"you're\", \"you've\", \"you'll\", \"you'd\", 'your', 'yours', 'yourself', 'yourselves', 'he', 'him', 'his', 'himself', 'she', \"she's\", 'her', 'hers', 'herself', 'it', \"it's\", 'its', 'itself', 'they', 'them', 'their', 'theirs', 'themselves', 'what', 'which', 'who', 'whom', 'this', 'that', \"that'll\", 'these', 'those', 'am', 'is', 'are', 'was', 'were', 'be', 'been', 'being', 'have', 'has', 'had', 'having', 'do', 'does', 'did', 'doing', 'a', 'an', 'the', 'and', 'but', 'if', 'or', 'because', 'as', 'until', 'while', 'of', 'at', 'by', 'for', 'with', 'about', 'against', 'between', 'into', 'through', 'during', 'before', 'after', 'above', 'below', 'to', 'from', 'up', 'down', 'in', 'out', 'on', 'off', 'over', 'under', 'again', 'further', 'then', 'once', 'here', 'there', 'when', 'where', 'why', 'how', 'all', 'any', 'both', 'each', 'few', 'more', 'most', 'other', 'some', 'such', 'no', 'nor', 'not', 'only', 'own', 'same', 'so', 'than', 'too', 'very', 's', 't', 'can', 'will', 'just', 'don', \"don't\", 'should', \"should've\", 'now', 'd', 'll', 'm', 'o', 're', 've', 'y', 'ain', 'aren', \"aren't\", 'couldn', \"couldn't\", 'didn', \"didn't\", 'doesn', \"doesn't\", 'hadn', \"hadn't\", 'hasn', \"hasn't\", 'haven', \"haven't\", 'isn', \"isn't\", 'ma', 'mightn', \"mightn't\", 'mustn', \"mustn't\", 'needn', \"needn't\", 'shan', \"shan't\", 'shouldn', \"shouldn't\", 'wasn', \"wasn't\", 'weren', \"weren't\", 'won', \"won't\", 'wouldn', \"wouldn't\"]\n"
     ]
    }
   ],
   "source": [
    "print(sw)"
   ]
  },
  {
   "cell_type": "code",
   "execution_count": 43,
   "metadata": {},
   "outputs": [],
   "source": [
    "def remove_stopwords(text):\n",
    "    '''a function for removing the stopword'''\n",
    "    # removing the stop words and lowercasing the selected words\n",
    "    text = [word.lower() for word in text.split(' ') if word.lower() not in sw]\n",
    "    # joining the list of words with space separator\n",
    "    return \" \".join(text)"
   ]
  },
  {
   "cell_type": "code",
   "execution_count": 44,
   "metadata": {},
   "outputs": [
    {
     "data": {
      "text/html": [
       "<div>\n",
       "<style>\n",
       "    .dataframe thead tr:only-child th {\n",
       "        text-align: right;\n",
       "    }\n",
       "\n",
       "    .dataframe thead th {\n",
       "        text-align: left;\n",
       "    }\n",
       "\n",
       "    .dataframe tbody tr th {\n",
       "        vertical-align: top;\n",
       "    }\n",
       "</style>\n",
       "<table border=\"1\" class=\"dataframe\">\n",
       "  <thead>\n",
       "    <tr style=\"text-align: right;\">\n",
       "      <th></th>\n",
       "      <th>Symbol</th>\n",
       "      <th>Date</th>\n",
       "      <th>Time</th>\n",
       "      <th>Tweet</th>\n",
       "    </tr>\n",
       "  </thead>\n",
       "  <tbody>\n",
       "    <tr>\n",
       "      <th>0</th>\n",
       "      <td>A</td>\n",
       "      <td>20171227.0</td>\n",
       "      <td>38425</td>\n",
       "      <td>dimensional fund advisors lp decreases positio...</td>\n",
       "    </tr>\n",
       "    <tr>\n",
       "      <th>1</th>\n",
       "      <td>A</td>\n",
       "      <td>20171227.0</td>\n",
       "      <td>38685</td>\n",
       "      <td>✅binance ❌poloniex ❌bittrex  move trading #1 c...</td>\n",
       "    </tr>\n",
       "    <tr>\n",
       "      <th>2</th>\n",
       "      <td>A</td>\n",
       "      <td>20171227.0</td>\n",
       "      <td>40390</td>\n",
       "      <td>$sway $a $bee $at $a $bee $im $rad</td>\n",
       "    </tr>\n",
       "  </tbody>\n",
       "</table>\n",
       "</div>"
      ],
      "text/plain": [
       "  Symbol        Date   Time                                              Tweet\n",
       "0      A  20171227.0  38425  dimensional fund advisors lp decreases positio...\n",
       "1      A  20171227.0  38685  ✅binance ❌poloniex ❌bittrex  move trading #1 c...\n",
       "2      A  20171227.0  40390                 $sway $a $bee $at $a $bee $im $rad"
      ]
     },
     "execution_count": 44,
     "metadata": {},
     "output_type": "execute_result"
    }
   ],
   "source": [
    "data['Tweet'] = data['Tweet'].apply(remove_stopwords)\n",
    "data.iloc[:,:4].head(3)"
   ]
  },
  {
   "cell_type": "markdown",
   "metadata": {},
   "source": [
    "** Stemming **"
   ]
  },
  {
   "cell_type": "code",
   "execution_count": 45,
   "metadata": {},
   "outputs": [],
   "source": [
    "# create an object of stemming function\n",
    "stemmer = nltk.stem.SnowballStemmer(\"english\")\n",
    "\n",
    "def stemming(text):    \n",
    "    '''a function which stems each word in the given text'''\n",
    "    text = [stemmer.stem(word) for word in text.split()]\n",
    "    return \" \".join(text) "
   ]
  },
  {
   "cell_type": "code",
   "execution_count": 46,
   "metadata": {},
   "outputs": [
    {
     "data": {
      "text/html": [
       "<div>\n",
       "<style>\n",
       "    .dataframe thead tr:only-child th {\n",
       "        text-align: right;\n",
       "    }\n",
       "\n",
       "    .dataframe thead th {\n",
       "        text-align: left;\n",
       "    }\n",
       "\n",
       "    .dataframe tbody tr th {\n",
       "        vertical-align: top;\n",
       "    }\n",
       "</style>\n",
       "<table border=\"1\" class=\"dataframe\">\n",
       "  <thead>\n",
       "    <tr style=\"text-align: right;\">\n",
       "      <th></th>\n",
       "      <th>Symbol</th>\n",
       "      <th>Date</th>\n",
       "      <th>Time</th>\n",
       "      <th>Tweet</th>\n",
       "    </tr>\n",
       "  </thead>\n",
       "  <tbody>\n",
       "    <tr>\n",
       "      <th>0</th>\n",
       "      <td>A</td>\n",
       "      <td>20171227.0</td>\n",
       "      <td>38425</td>\n",
       "      <td>dimension fund advisor lp decreas posit agil t...</td>\n",
       "    </tr>\n",
       "    <tr>\n",
       "      <th>1</th>\n",
       "      <td>A</td>\n",
       "      <td>20171227.0</td>\n",
       "      <td>38685</td>\n",
       "      <td>✅binanc ❌poloniex ❌bittrex move trade #1 crypt...</td>\n",
       "    </tr>\n",
       "    <tr>\n",
       "      <th>2</th>\n",
       "      <td>A</td>\n",
       "      <td>20171227.0</td>\n",
       "      <td>40390</td>\n",
       "      <td>$sway $a $bee $at $a $bee $im $rad</td>\n",
       "    </tr>\n",
       "  </tbody>\n",
       "</table>\n",
       "</div>"
      ],
      "text/plain": [
       "  Symbol        Date   Time                                              Tweet\n",
       "0      A  20171227.0  38425  dimension fund advisor lp decreas posit agil t...\n",
       "1      A  20171227.0  38685  ✅binanc ❌poloniex ❌bittrex move trade #1 crypt...\n",
       "2      A  20171227.0  40390                 $sway $a $bee $at $a $bee $im $rad"
      ]
     },
     "execution_count": 46,
     "metadata": {},
     "output_type": "execute_result"
    }
   ],
   "source": [
    "data['Tweet'] = data['Tweet'].apply(stemming)\n",
    "data.iloc[:,:4].head(3)"
   ]
  },
  {
   "cell_type": "markdown",
   "metadata": {},
   "source": [
    "## Word2Vec"
   ]
  },
  {
   "cell_type": "markdown",
   "metadata": {},
   "source": [
    "Word2vec is a model that learns a representation of words. It uses underneath the wood, neural networks that learns an embedding allowing them to predict the next word using the context (https://www.tensorflow.org/tutorials/word2vec)."
   ]
  },
  {
   "cell_type": "markdown",
   "metadata": {},
   "source": [
    "Here, we will use a pretrained word2vec model on google news data that you can download <a href=\"https://www.tensorflow.org/tutorials/word2vec\">here</a>."
   ]
  },
  {
   "cell_type": "code",
   "execution_count": 48,
   "metadata": {},
   "outputs": [],
   "source": [
    "import gensim"
   ]
  },
  {
   "cell_type": "code",
   "execution_count": 50,
   "metadata": {},
   "outputs": [],
   "source": [
    "# Load Google's pre-trained Word2Vec model.\n",
    "model = gensim.models.KeyedVectors.load_word2vec_format('GoogleNews-vectors-negative300.bin', binary=True)  "
   ]
  },
  {
   "cell_type": "markdown",
   "metadata": {},
   "source": [
    "Getting the most similar words from the model:"
   ]
  },
  {
   "cell_type": "code",
   "execution_count": 51,
   "metadata": {},
   "outputs": [
    {
     "data": {
      "text/plain": [
       "[('shares', 0.7760442495346069),\n",
       " ('stocks', 0.6025432348251343),\n",
       " ('Shares', 0.5807890892028809),\n",
       " ('Stock', 0.5690754055976868),\n",
       " ('stockmarket', 0.54961097240448),\n",
       " ('market_capitalization', 0.5441644191741943),\n",
       " ('VNDA', 0.5439260005950928),\n",
       " ('Autozone_NYSE_AZO', 0.5406639575958252),\n",
       " ('Insider_buying', 0.5401883125305176),\n",
       " ('shareprice', 0.5363472700119019)]"
      ]
     },
     "execution_count": 51,
     "metadata": {},
     "output_type": "execute_result"
    }
   ],
   "source": [
    "model.most_similar(\"stock\")"
   ]
  },
  {
   "cell_type": "markdown",
   "metadata": {},
   "source": [
    "We can visualize the model using a t-SNE which is a method for dimension reduction:"
   ]
  },
  {
   "cell_type": "code",
   "execution_count": 52,
   "metadata": {},
   "outputs": [],
   "source": [
    "from sklearn.manifold import TSNE"
   ]
  },
  {
   "cell_type": "code",
   "execution_count": 53,
   "metadata": {},
   "outputs": [
    {
     "name": "stderr",
     "output_type": "stream",
     "text": [
      "100%|██████████| 100/100 [00:00<00:00, 22753.09it/s]\n"
     ]
    },
    {
     "data": {
      "image/png": "[encoded data removed]",
      "text/plain": [
       "<matplotlib.figure.Figure at 0x2ec50c860>"
      ]
     },
     "metadata": {},
     "output_type": "display_data"
    }
   ],
   "source": [
    "def tsne_plot(model, nb_words, threshold=1000):\n",
    "    \"Creates and TSNE model and plots it\"\n",
    "    labels = []\n",
    "    tokens = []\n",
    "\n",
    "    # Counts of words\n",
    "    counts = []\n",
    "\n",
    "    for word in model.vocab:\n",
    "        counts.append(model.vocab[word].count)\n",
    "\n",
    "    max_count = max(counts)\n",
    "\n",
    "    sorted_words = [word for count,word in sorted(zip(counts, model.vocab), reverse=True)\n",
    "                    if count < (threshold * max_count)][threshold:(threshold + nb_words)]\n",
    "\n",
    "    for word in tqdm(sorted_words):\n",
    "        tokens.append(model[word])\n",
    "        labels.append(word)\n",
    "    \n",
    "    tsne_model = TSNE(perplexity=40, n_components=2, init='pca', n_iter=2500, random_state=23)\n",
    "    new_values = tsne_model.fit_transform(tokens)\n",
    "\n",
    "    x = []\n",
    "    y = []\n",
    "    for value in new_values:\n",
    "        x.append(value[0])\n",
    "        y.append(value[1])\n",
    "        \n",
    "    plt.figure(figsize=(16, 16))\n",
    "\n",
    "    for i in range(len(x)):\n",
    "        plt.scatter(x[i],y[i])\n",
    "        plt.annotate(labels[i],\n",
    "                     xy=(x[i], y[i]),\n",
    "                     xytext=(5, 2),\n",
    "                     textcoords='offset points',\n",
    "                     ha='right',\n",
    "                     va='bottom')\n",
    "    plt.show()\n",
    "\n",
    "tsne_plot(model, 100)"
   ]
  },
  {
   "cell_type": "markdown",
   "metadata": {},
   "source": [
    "The t-SNE model is a powerfull source of visualisation, on this graph the closest two words are and the more associated they are, for instance \"present\" and \"happy\" are pretty close."
   ]
  },
  {
   "cell_type": "code",
   "execution_count": 54,
   "metadata": {},
   "outputs": [],
   "source": [
    "import numpy as np\n",
    "\n",
    "def construct_embedding(text):\n",
    "    words = text.split(\" \")\n",
    "    embeddings = []\n",
    "\n",
    "    for word in words:\n",
    "        try:\n",
    "            embeddings.append(model.word_vec(word))\n",
    "        except:\n",
    "            pass\n",
    "\n",
    "    n_words = len(embeddings)\n",
    "\n",
    "    if n_words != 0:\n",
    "        mean_embeddings = sum(embeddings) / float(n_words)\n",
    "        return mean_embeddings\n",
    "    else:\n",
    "        return  np.zeros(300)"
   ]
  },
  {
   "cell_type": "code",
   "execution_count": 55,
   "metadata": {},
   "outputs": [],
   "source": [
    "data[\"Embedding\"] = data[\"Tweet\"].apply(construct_embedding)"
   ]
  },
  {
   "cell_type": "markdown",
   "metadata": {},
   "source": [
    "Filtering the lines with only words that are not in the model:"
   ]
  },
  {
   "cell_type": "code",
   "execution_count": 56,
   "metadata": {},
   "outputs": [],
   "source": [
    "data[\"Filter\"] = data[\"Embedding\"].apply(lambda x: x.sum())"
   ]
  },
  {
   "cell_type": "code",
   "execution_count": 57,
   "metadata": {},
   "outputs": [
    {
     "name": "stdout",
     "output_type": "stream",
     "text": [
      "Percentage of lines kept: 94.75%\n"
     ]
    }
   ],
   "source": [
    "print(\"Percentage of lines kept: {0:.2%}\".format(len(data[data[\"Filter\"] != 0]) / float(len(data))))"
   ]
  },
  {
   "cell_type": "code",
   "execution_count": 58,
   "metadata": {},
   "outputs": [],
   "source": [
    "data = data[data[\"Filter\"] != 0]"
   ]
  },
  {
   "cell_type": "code",
   "execution_count": 59,
   "metadata": {},
   "outputs": [],
   "source": [
    "data[['feat{}'.format(i) for i in range(1, 301)]] = pd.DataFrame(data[\"Embedding\"].apply(list).values.tolist(), index= data.index)"
   ]
  },
  {
   "cell_type": "code",
   "execution_count": 60,
   "metadata": {},
   "outputs": [
    {
     "data": {
      "text/html": [
       "<div>\n",
       "<style>\n",
       "    .dataframe thead tr:only-child th {\n",
       "        text-align: right;\n",
       "    }\n",
       "\n",
       "    .dataframe thead th {\n",
       "        text-align: left;\n",
       "    }\n",
       "\n",
       "    .dataframe tbody tr th {\n",
       "        vertical-align: top;\n",
       "    }\n",
       "</style>\n",
       "<table border=\"1\" class=\"dataframe\">\n",
       "  <thead>\n",
       "    <tr style=\"text-align: right;\">\n",
       "      <th></th>\n",
       "      <th>Symbol</th>\n",
       "      <th>Date</th>\n",
       "      <th>Time</th>\n",
       "      <th>Tweet</th>\n",
       "      <th>PastReturn_5</th>\n",
       "      <th>PastReturn_10</th>\n",
       "      <th>PastReturn_15</th>\n",
       "      <th>PastReturn_30</th>\n",
       "      <th>PastReturn_60</th>\n",
       "      <th>FuturReturn_5</th>\n",
       "      <th>...</th>\n",
       "      <th>feat291</th>\n",
       "      <th>feat292</th>\n",
       "      <th>feat293</th>\n",
       "      <th>feat294</th>\n",
       "      <th>feat295</th>\n",
       "      <th>feat296</th>\n",
       "      <th>feat297</th>\n",
       "      <th>feat298</th>\n",
       "      <th>feat299</th>\n",
       "      <th>feat300</th>\n",
       "    </tr>\n",
       "  </thead>\n",
       "  <tbody>\n",
       "    <tr>\n",
       "      <th>0</th>\n",
       "      <td>A</td>\n",
       "      <td>20171227.0</td>\n",
       "      <td>38425</td>\n",
       "      <td>dimension fund advisor lp decreas posit agil t...</td>\n",
       "      <td>0.741895</td>\n",
       "      <td>-7.412898</td>\n",
       "      <td>7.423905</td>\n",
       "      <td>5.938242</td>\n",
       "      <td>11.883541</td>\n",
       "      <td>1.48390</td>\n",
       "      <td>...</td>\n",
       "      <td>-0.071228</td>\n",
       "      <td>0.032397</td>\n",
       "      <td>-0.093750</td>\n",
       "      <td>0.022339</td>\n",
       "      <td>-0.040798</td>\n",
       "      <td>-0.213797</td>\n",
       "      <td>0.025539</td>\n",
       "      <td>-0.012418</td>\n",
       "      <td>-0.074402</td>\n",
       "      <td>0.090890</td>\n",
       "    </tr>\n",
       "    <tr>\n",
       "      <th>1</th>\n",
       "      <td>A</td>\n",
       "      <td>20171227.0</td>\n",
       "      <td>38685</td>\n",
       "      <td>✅binanc ❌poloniex ❌bittrex move trade #1 crypt...</td>\n",
       "      <td>-14.836795</td>\n",
       "      <td>-11.872959</td>\n",
       "      <td>-20.759193</td>\n",
       "      <td>-8.907363</td>\n",
       "      <td>-4.455666</td>\n",
       "      <td>-1.48368</td>\n",
       "      <td>...</td>\n",
       "      <td>0.152832</td>\n",
       "      <td>0.063538</td>\n",
       "      <td>-0.031362</td>\n",
       "      <td>-0.010132</td>\n",
       "      <td>0.091447</td>\n",
       "      <td>-0.016780</td>\n",
       "      <td>0.041911</td>\n",
       "      <td>-0.042236</td>\n",
       "      <td>0.027252</td>\n",
       "      <td>0.055819</td>\n",
       "    </tr>\n",
       "    <tr>\n",
       "      <th>3</th>\n",
       "      <td>A</td>\n",
       "      <td>20171227.0</td>\n",
       "      <td>42075</td>\n",
       "      <td>sivik global healthcar increas agil technolog ...</td>\n",
       "      <td>-1.485001</td>\n",
       "      <td>-2.969562</td>\n",
       "      <td>-5.937361</td>\n",
       "      <td>-1.648325</td>\n",
       "      <td>-7.420600</td>\n",
       "      <td>0.00000</td>\n",
       "      <td>...</td>\n",
       "      <td>0.044769</td>\n",
       "      <td>0.047424</td>\n",
       "      <td>-0.021233</td>\n",
       "      <td>0.078476</td>\n",
       "      <td>0.008492</td>\n",
       "      <td>-0.049630</td>\n",
       "      <td>-0.048454</td>\n",
       "      <td>0.088051</td>\n",
       "      <td>-0.048645</td>\n",
       "      <td>0.024250</td>\n",
       "    </tr>\n",
       "  </tbody>\n",
       "</table>\n",
       "<p>3 rows × 317 columns</p>\n",
       "</div>"
      ],
      "text/plain": [
       "  Symbol        Date   Time  \\\n",
       "0      A  20171227.0  38425   \n",
       "1      A  20171227.0  38685   \n",
       "3      A  20171227.0  42075   \n",
       "\n",
       "                                               Tweet  PastReturn_5  \\\n",
       "0  dimension fund advisor lp decreas posit agil t...      0.741895   \n",
       "1  ✅binanc ❌poloniex ❌bittrex move trade #1 crypt...    -14.836795   \n",
       "3  sivik global healthcar increas agil technolog ...     -1.485001   \n",
       "\n",
       "   PastReturn_10  PastReturn_15  PastReturn_30  PastReturn_60  FuturReturn_5  \\\n",
       "0      -7.412898       7.423905       5.938242      11.883541        1.48390   \n",
       "1     -11.872959     -20.759193      -8.907363      -4.455666       -1.48368   \n",
       "3      -2.969562      -5.937361      -1.648325      -7.420600        0.00000   \n",
       "\n",
       "     ...      feat291   feat292   feat293   feat294   feat295   feat296  \\\n",
       "0    ...    -0.071228  0.032397 -0.093750  0.022339 -0.040798 -0.213797   \n",
       "1    ...     0.152832  0.063538 -0.031362 -0.010132  0.091447 -0.016780   \n",
       "3    ...     0.044769  0.047424 -0.021233  0.078476  0.008492 -0.049630   \n",
       "\n",
       "    feat297   feat298   feat299   feat300  \n",
       "0  0.025539 -0.012418 -0.074402  0.090890  \n",
       "1  0.041911 -0.042236  0.027252  0.055819  \n",
       "3 -0.048454  0.088051 -0.048645  0.024250  \n",
       "\n",
       "[3 rows x 317 columns]"
      ]
     },
     "execution_count": 60,
     "metadata": {},
     "output_type": "execute_result"
    }
   ],
   "source": [
    "data.head(3)"
   ]
  },
  {
   "cell_type": "code",
   "execution_count": 61,
   "metadata": {},
   "outputs": [],
   "source": [
    "X = data[['feat{}'.format(i) for i in range(1, 301)]]\n",
    "y_label = data[\"Score\"]\n",
    "y = data[\"FuturReturn_15\"]"
   ]
  },
  {
   "cell_type": "code",
   "execution_count": 62,
   "metadata": {},
   "outputs": [
    {
     "data": {
      "text/html": [
       "<div>\n",
       "<style>\n",
       "    .dataframe thead tr:only-child th {\n",
       "        text-align: right;\n",
       "    }\n",
       "\n",
       "    .dataframe thead th {\n",
       "        text-align: left;\n",
       "    }\n",
       "\n",
       "    .dataframe tbody tr th {\n",
       "        vertical-align: top;\n",
       "    }\n",
       "</style>\n",
       "<table border=\"1\" class=\"dataframe\">\n",
       "  <thead>\n",
       "    <tr style=\"text-align: right;\">\n",
       "      <th></th>\n",
       "      <th>feat1</th>\n",
       "      <th>feat2</th>\n",
       "      <th>feat3</th>\n",
       "      <th>feat4</th>\n",
       "      <th>feat5</th>\n",
       "      <th>feat6</th>\n",
       "      <th>feat7</th>\n",
       "      <th>feat8</th>\n",
       "      <th>feat9</th>\n",
       "      <th>feat10</th>\n",
       "      <th>...</th>\n",
       "      <th>feat291</th>\n",
       "      <th>feat292</th>\n",
       "      <th>feat293</th>\n",
       "      <th>feat294</th>\n",
       "      <th>feat295</th>\n",
       "      <th>feat296</th>\n",
       "      <th>feat297</th>\n",
       "      <th>feat298</th>\n",
       "      <th>feat299</th>\n",
       "      <th>feat300</th>\n",
       "    </tr>\n",
       "  </thead>\n",
       "  <tbody>\n",
       "    <tr>\n",
       "      <th>0</th>\n",
       "      <td>0.004658</td>\n",
       "      <td>0.016253</td>\n",
       "      <td>-0.006627</td>\n",
       "      <td>0.035579</td>\n",
       "      <td>-0.030849</td>\n",
       "      <td>0.076869</td>\n",
       "      <td>0.092564</td>\n",
       "      <td>-0.180734</td>\n",
       "      <td>0.073493</td>\n",
       "      <td>-0.058838</td>\n",
       "      <td>...</td>\n",
       "      <td>-0.071228</td>\n",
       "      <td>0.032397</td>\n",
       "      <td>-0.093750</td>\n",
       "      <td>0.022339</td>\n",
       "      <td>-0.040798</td>\n",
       "      <td>-0.213797</td>\n",
       "      <td>0.025539</td>\n",
       "      <td>-0.012418</td>\n",
       "      <td>-0.074402</td>\n",
       "      <td>0.090890</td>\n",
       "    </tr>\n",
       "    <tr>\n",
       "      <th>1</th>\n",
       "      <td>-0.021505</td>\n",
       "      <td>0.029867</td>\n",
       "      <td>-0.037109</td>\n",
       "      <td>0.095479</td>\n",
       "      <td>0.031576</td>\n",
       "      <td>0.100260</td>\n",
       "      <td>-0.071472</td>\n",
       "      <td>-0.008565</td>\n",
       "      <td>0.091878</td>\n",
       "      <td>0.057210</td>\n",
       "      <td>...</td>\n",
       "      <td>0.152832</td>\n",
       "      <td>0.063538</td>\n",
       "      <td>-0.031362</td>\n",
       "      <td>-0.010132</td>\n",
       "      <td>0.091447</td>\n",
       "      <td>-0.016780</td>\n",
       "      <td>0.041911</td>\n",
       "      <td>-0.042236</td>\n",
       "      <td>0.027252</td>\n",
       "      <td>0.055819</td>\n",
       "    </tr>\n",
       "    <tr>\n",
       "      <th>3</th>\n",
       "      <td>-0.070360</td>\n",
       "      <td>0.039215</td>\n",
       "      <td>-0.088531</td>\n",
       "      <td>0.063980</td>\n",
       "      <td>-0.066299</td>\n",
       "      <td>-0.051727</td>\n",
       "      <td>0.037460</td>\n",
       "      <td>-0.110718</td>\n",
       "      <td>0.121664</td>\n",
       "      <td>0.024929</td>\n",
       "      <td>...</td>\n",
       "      <td>0.044769</td>\n",
       "      <td>0.047424</td>\n",
       "      <td>-0.021233</td>\n",
       "      <td>0.078476</td>\n",
       "      <td>0.008492</td>\n",
       "      <td>-0.049630</td>\n",
       "      <td>-0.048454</td>\n",
       "      <td>0.088051</td>\n",
       "      <td>-0.048645</td>\n",
       "      <td>0.024250</td>\n",
       "    </tr>\n",
       "    <tr>\n",
       "      <th>4</th>\n",
       "      <td>0.066803</td>\n",
       "      <td>0.018417</td>\n",
       "      <td>-0.029083</td>\n",
       "      <td>0.041809</td>\n",
       "      <td>-0.095886</td>\n",
       "      <td>0.088816</td>\n",
       "      <td>0.058350</td>\n",
       "      <td>-0.008759</td>\n",
       "      <td>0.167572</td>\n",
       "      <td>0.154915</td>\n",
       "      <td>...</td>\n",
       "      <td>0.010620</td>\n",
       "      <td>0.076477</td>\n",
       "      <td>-0.116211</td>\n",
       "      <td>0.011658</td>\n",
       "      <td>-0.088745</td>\n",
       "      <td>-0.102295</td>\n",
       "      <td>-0.086205</td>\n",
       "      <td>-0.059326</td>\n",
       "      <td>0.091675</td>\n",
       "      <td>-0.078690</td>\n",
       "    </tr>\n",
       "    <tr>\n",
       "      <th>5</th>\n",
       "      <td>0.066803</td>\n",
       "      <td>0.018417</td>\n",
       "      <td>-0.029083</td>\n",
       "      <td>0.041809</td>\n",
       "      <td>-0.095886</td>\n",
       "      <td>0.088816</td>\n",
       "      <td>0.058350</td>\n",
       "      <td>-0.008759</td>\n",
       "      <td>0.167572</td>\n",
       "      <td>0.154915</td>\n",
       "      <td>...</td>\n",
       "      <td>0.010620</td>\n",
       "      <td>0.076477</td>\n",
       "      <td>-0.116211</td>\n",
       "      <td>0.011658</td>\n",
       "      <td>-0.088745</td>\n",
       "      <td>-0.102295</td>\n",
       "      <td>-0.086205</td>\n",
       "      <td>-0.059326</td>\n",
       "      <td>0.091675</td>\n",
       "      <td>-0.078690</td>\n",
       "    </tr>\n",
       "  </tbody>\n",
       "</table>\n",
       "<p>5 rows × 300 columns</p>\n",
       "</div>"
      ],
      "text/plain": [
       "      feat1     feat2     feat3     feat4     feat5     feat6     feat7  \\\n",
       "0  0.004658  0.016253 -0.006627  0.035579 -0.030849  0.076869  0.092564   \n",
       "1 -0.021505  0.029867 -0.037109  0.095479  0.031576  0.100260 -0.071472   \n",
       "3 -0.070360  0.039215 -0.088531  0.063980 -0.066299 -0.051727  0.037460   \n",
       "4  0.066803  0.018417 -0.029083  0.041809 -0.095886  0.088816  0.058350   \n",
       "5  0.066803  0.018417 -0.029083  0.041809 -0.095886  0.088816  0.058350   \n",
       "\n",
       "      feat8     feat9    feat10    ...      feat291   feat292   feat293  \\\n",
       "0 -0.180734  0.073493 -0.058838    ...    -0.071228  0.032397 -0.093750   \n",
       "1 -0.008565  0.091878  0.057210    ...     0.152832  0.063538 -0.031362   \n",
       "3 -0.110718  0.121664  0.024929    ...     0.044769  0.047424 -0.021233   \n",
       "4 -0.008759  0.167572  0.154915    ...     0.010620  0.076477 -0.116211   \n",
       "5 -0.008759  0.167572  0.154915    ...     0.010620  0.076477 -0.116211   \n",
       "\n",
       "    feat294   feat295   feat296   feat297   feat298   feat299   feat300  \n",
       "0  0.022339 -0.040798 -0.213797  0.025539 -0.012418 -0.074402  0.090890  \n",
       "1 -0.010132  0.091447 -0.016780  0.041911 -0.042236  0.027252  0.055819  \n",
       "3  0.078476  0.008492 -0.049630 -0.048454  0.088051 -0.048645  0.024250  \n",
       "4  0.011658 -0.088745 -0.102295 -0.086205 -0.059326  0.091675 -0.078690  \n",
       "5  0.011658 -0.088745 -0.102295 -0.086205 -0.059326  0.091675 -0.078690  \n",
       "\n",
       "[5 rows x 300 columns]"
      ]
     },
     "execution_count": 62,
     "metadata": {},
     "output_type": "execute_result"
    }
   ],
   "source": [
    "X.head()"
   ]
  },
  {
   "cell_type": "markdown",
   "metadata": {},
   "source": [
    "# Label Propagation"
   ]
  },
  {
   "cell_type": "markdown",
   "metadata": {},
   "source": [
    "Here we use label propagation algorithm, which is a graph based algorithm that generates labels for the data. (http://scikit-learn.org/stable/modules/label_propagation.html)"
   ]
  },
  {
   "cell_type": "markdown",
   "metadata": {},
   "source": [
    "Here, we will propagate the labels using the highest sentiment score."
   ]
  },
  {
   "cell_type": "code",
   "execution_count": 63,
   "metadata": {},
   "outputs": [],
   "source": [
    "y_label_train = np.zeros_like(y_label)\n",
    "thresh = 2\n",
    "X_1 = X[y_label > thresh]\n",
    "X_2 = X[y_label < -thresh]\n",
    "n_1 = len(X_1)\n",
    "n_2 = len(X_2)\n",
    "n_3 = min(n_1, n_2)\n",
    "\n",
    "y_label_train[y_label > thresh] = 2\n",
    "y_label_train[y_label < -thresh] = 0\n",
    "y_label_train[(y_label >= -thresh) & (y_label <= thresh)] = 1\n",
    "\n",
    "# We put -1 for the set of unlabeled data\n",
    "counts = {0 : 0, 1 : 0, 2 : 0}\n",
    "for i in range(len(y_label_train)):\n",
    "    elem = y_label_train[i]\n",
    "    counts[elem] += 1\n",
    "\n",
    "    if counts[elem] > n_3:\n",
    "        y_label_train[i] = -1"
   ]
  },
  {
   "cell_type": "code",
   "execution_count": 64,
   "metadata": {},
   "outputs": [],
   "source": [
    "from sklearn.semi_supervised import label_propagation"
   ]
  },
  {
   "cell_type": "markdown",
   "metadata": {},
   "source": [
    "We will use a PCA in order to reduce the dimension as the matrix is too large:"
   ]
  },
  {
   "cell_type": "code",
   "execution_count": 65,
   "metadata": {},
   "outputs": [],
   "source": [
    "n_components = 10"
   ]
  },
  {
   "cell_type": "code",
   "execution_count": 66,
   "metadata": {},
   "outputs": [],
   "source": [
    "from sklearn.decomposition import PCA\n",
    "pca = PCA(n_components=n_components)\n",
    "X_pca = pca.fit_transform(X)"
   ]
  },
  {
   "cell_type": "code",
   "execution_count": 67,
   "metadata": {},
   "outputs": [],
   "source": [
    "label_proba = label_propagation.LabelPropagation(n_jobs=-1, kernel=\"knn\")"
   ]
  },
  {
   "cell_type": "code",
   "execution_count": 68,
   "metadata": {},
   "outputs": [
    {
     "name": "stderr",
     "output_type": "stream",
     "text": [
      "/Library/Frameworks/Python.framework/Versions/3.6/lib/python3.6/site-packages/sklearn/semi_supervised/label_propagation.py:277: RuntimeWarning: invalid value encountered in true_divide\n",
      "  self.label_distributions_ /= normalizer\n",
      "/Library/Frameworks/Python.framework/Versions/3.6/lib/python3.6/site-packages/sklearn/semi_supervised/label_propagation.py:288: ConvergenceWarning: max_iter=1000 was reached without convergence.\n",
      "  category=ConvergenceWarning\n"
     ]
    },
    {
     "data": {
      "text/plain": [
       "LabelPropagation(alpha=None, gamma=20, kernel='knn', max_iter=1000, n_jobs=-1,\n",
       "         n_neighbors=7, tol=0.001)"
      ]
     },
     "execution_count": 68,
     "metadata": {},
     "output_type": "execute_result"
    }
   ],
   "source": [
    "label_proba.fit(X_pca, y_label_train)"
   ]
  },
  {
   "cell_type": "code",
   "execution_count": 69,
   "metadata": {},
   "outputs": [],
   "source": [
    "y_new_labels = label_proba.transduction_"
   ]
  },
  {
   "cell_type": "code",
   "execution_count": 70,
   "metadata": {},
   "outputs": [],
   "source": [
    "data_result = data[[col for col in data.columns if \"Return\" in col]].copy()\n",
    "data_result[\"Score\"] = y_new_labels"
   ]
  },
  {
   "cell_type": "code",
   "execution_count": 71,
   "metadata": {},
   "outputs": [],
   "source": [
    "data_corr = data_result.corr()"
   ]
  },
  {
   "cell_type": "code",
   "execution_count": 72,
   "metadata": {},
   "outputs": [],
   "source": [
    "corrs_past = [data_corr.loc[\"Score\", \"PastReturn_{}\".format(ret)] for ret in returns[::-1]]\n",
    "corrs_fut = [data_corr.loc[\"Score\", \"FuturReturn_{}\".format(ret)] for ret in returns]"
   ]
  },
  {
   "cell_type": "code",
   "execution_count": 73,
   "metadata": {},
   "outputs": [
    {
     "data": {
      "image/png": "[encoded data removed]",
      "text/plain": [
       "<matplotlib.figure.Figure at 0x2ede94f60>"
      ]
     },
     "metadata": {},
     "output_type": "display_data"
    }
   ],
   "source": [
    "plt.figure()\n",
    "corrs = corrs_past + corrs_fut\n",
    "plt.plot(range(len(corrs)), corrs)\n",
    "plt.xticks(range(len(corrs)), [-ret for ret in returns[::-1]] + returns)\n",
    "plt.xlabel(\"Horizon Return in minutes\")\n",
    "plt.ylabel(\"Correlation with the sentiment analysis score\")\n",
    "plt.title(\"Correlation of the sentiment analysis score with the returns\")\n",
    "plt.show()"
   ]
  },
  {
   "cell_type": "markdown",
   "metadata": {},
   "source": [
    "We observe that the negative returns are correlated with the sentiment analysis score. In fact, an explanation could be that the news was spread on finance media (such as Bloomberg) and that traders used this information to trade and thus impacting the market. After that, the news reached with a delay the social media and people started to tweet against the stock."
   ]
  },
  {
   "cell_type": "markdown",
   "metadata": {},
   "source": [
    "# Deep Learning model for classification"
   ]
  },
  {
   "cell_type": "markdown",
   "metadata": {},
   "source": [
    "Creating three classes:\n",
    "- High positive returns\n",
    "- Low returns (that don't cover for transaction fees)\n",
    "- High negative returns"
   ]
  },
  {
   "cell_type": "code",
   "execution_count": 74,
   "metadata": {},
   "outputs": [],
   "source": [
    "n = len(X)"
   ]
  },
  {
   "cell_type": "code",
   "execution_count": 75,
   "metadata": {},
   "outputs": [],
   "source": [
    "def group_return(x):\n",
    "    if x < -2:\n",
    "        return -1\n",
    "    elif x < 2:\n",
    "        return 0\n",
    "    else:\n",
    "        return 1"
   ]
  },
  {
   "cell_type": "code",
   "execution_count": 76,
   "metadata": {},
   "outputs": [],
   "source": [
    "y_ret = y.apply(group_return)"
   ]
  },
  {
   "cell_type": "code",
   "execution_count": 78,
   "metadata": {},
   "outputs": [],
   "source": [
    "X_train = X.iloc[:int(n/2)]\n",
    "y_train = y_ret.iloc[:int(n/2)]\n",
    "\n",
    "X_test = X.iloc[int(n/2):]\n",
    "y_test = y_ret.iloc[int(n/2):]"
   ]
  },
  {
   "cell_type": "code",
   "execution_count": 80,
   "metadata": {},
   "outputs": [
    {
     "name": "stderr",
     "output_type": "stream",
     "text": [
      "Using TensorFlow backend.\n",
      "/Library/Frameworks/Python.framework/Versions/3.6/lib/python3.6/importlib/_bootstrap.py:219: RuntimeWarning: compiletime version 3.5 of module 'tensorflow.python.framework.fast_tensor_util' does not match runtime version 3.6\n",
      "  return f(*args, **kwds)\n"
     ]
    }
   ],
   "source": [
    "from keras.models import Sequential\n",
    "from keras.layers import Dense, Activation"
   ]
  },
  {
   "cell_type": "code",
   "execution_count": 81,
   "metadata": {},
   "outputs": [],
   "source": [
    "# Converting the data to the right format\n",
    "from keras.utils import to_categorical\n",
    "y_test = to_categorical(y_test, num_classes=3)\n",
    "y_train = to_categorical(y_train, num_classes=3)"
   ]
  },
  {
   "cell_type": "markdown",
   "metadata": {},
   "source": [
    "Here, we use a deep neural network with 2 layers:"
   ]
  },
  {
   "cell_type": "code",
   "execution_count": 82,
   "metadata": {},
   "outputs": [
    {
     "name": "stdout",
     "output_type": "stream",
     "text": [
      "Epoch 1/10\n",
      " - 8s - loss: 0.8781 - acc: 0.5290\n",
      "Epoch 2/10\n",
      " - 7s - loss: 0.8350 - acc: 0.5701\n",
      "Epoch 3/10\n",
      " - 7s - loss: 0.8148 - acc: 0.5860\n",
      "Epoch 4/10\n",
      " - 8s - loss: 0.8013 - acc: 0.5941\n",
      "Epoch 5/10\n",
      " - 7s - loss: 0.7913 - acc: 0.6011\n",
      "Epoch 6/10\n",
      " - 7s - loss: 0.7827 - acc: 0.6066\n",
      "Epoch 7/10\n",
      " - 7s - loss: 0.7762 - acc: 0.6103\n",
      "Epoch 8/10\n",
      " - 7s - loss: 0.7699 - acc: 0.6129\n",
      "Epoch 9/10\n",
      " - 7s - loss: 0.7652 - acc: 0.6163\n",
      "Epoch 10/10\n",
      " - 7s - loss: 0.7604 - acc: 0.6192\n"
     ]
    },
    {
     "data": {
      "text/plain": [
       "<keras.callbacks.History at 0x30dc76a20>"
      ]
     },
     "execution_count": 82,
     "metadata": {},
     "output_type": "execute_result"
    }
   ],
   "source": [
    "model_nn = Sequential()\n",
    "model_nn.add(Dense(32, activation='relu', input_dim=300))\n",
    "model_nn.add(Dense(3, activation='sigmoid'))\n",
    "model_nn.compile(optimizer='adam',\n",
    "              loss='categorical_crossentropy',\n",
    "              metrics=['accuracy'])\n",
    "\n",
    "model_nn.fit(X_train, y_train, epochs=10, batch_size=32, verbose=2)"
   ]
  },
  {
   "cell_type": "code",
   "execution_count": 83,
   "metadata": {},
   "outputs": [],
   "source": [
    "y_pred = model_nn.predict(X_test)"
   ]
  },
  {
   "cell_type": "code",
   "execution_count": 84,
   "metadata": {},
   "outputs": [],
   "source": [
    "y_pred = y_pred.argmax(axis=1).reshape(-1,)"
   ]
  },
  {
   "cell_type": "code",
   "execution_count": 85,
   "metadata": {},
   "outputs": [],
   "source": [
    "y_test = y_test.argmax(axis=1).reshape(-1,)"
   ]
  },
  {
   "cell_type": "code",
   "execution_count": 86,
   "metadata": {},
   "outputs": [],
   "source": [
    "accuracy = np.sum(y_pred == y_test)/ float(len(y_test))"
   ]
  },
  {
   "cell_type": "code",
   "execution_count": 87,
   "metadata": {},
   "outputs": [
    {
     "name": "stdout",
     "output_type": "stream",
     "text": [
      "The accuracy of the model is equal to 48.02%\n"
     ]
    }
   ],
   "source": [
    "print(\"The accuracy of the model is equal to {0:.2%}\".format(accuracy))"
   ]
  },
  {
   "cell_type": "markdown",
   "metadata": {},
   "source": [
    "The accuracy is not always the best way to measure the performance (especially when the classes are imbalanced), we can plot the confusion matrix:"
   ]
  },
  {
   "cell_type": "code",
   "execution_count": 88,
   "metadata": {},
   "outputs": [],
   "source": [
    "from sklearn.metrics import confusion_matrix"
   ]
  },
  {
   "cell_type": "code",
   "execution_count": 89,
   "metadata": {},
   "outputs": [
    {
     "data": {
      "image/png": "[encoded data removed]",
      "text/plain": [
       "<matplotlib.figure.Figure at 0x314e48898>"
      ]
     },
     "metadata": {},
     "output_type": "display_data"
    },
    {
     "data": {
      "image/png": "[encoded data removed]",
      "text/plain": [
       "<matplotlib.figure.Figure at 0x314e48ef0>"
      ]
     },
     "metadata": {},
     "output_type": "display_data"
    }
   ],
   "source": [
    "def plot_confusion_matrix(cm, classes,\n",
    "                          normalize=False,\n",
    "                          title='Confusion matrix',\n",
    "                          cmap=plt.cm.Blues):\n",
    "    \"\"\"\n",
    "    This function prints and plots the confusion matrix.\n",
    "    Normalization can be applied by setting `normalize=True`.\n",
    "    \"\"\"\n",
    "    import itertools\n",
    "\n",
    "    if normalize:\n",
    "        cm = cm.astype('float') / cm.sum(axis=1)[:, np.newaxis]\n",
    "\n",
    "    plt.imshow(cm, interpolation='nearest', cmap=cmap)\n",
    "    plt.title(title)\n",
    "    plt.colorbar()\n",
    "    tick_marks = np.arange(len(classes))\n",
    "    plt.xticks(tick_marks, classes, rotation=45)\n",
    "    plt.yticks(tick_marks, classes)\n",
    "\n",
    "    from matplotlib.font_manager import FontProperties\n",
    "    font0 = FontProperties()\n",
    "    font = font0.copy()\n",
    "    font.set_weight('bold')\n",
    "\n",
    "\n",
    "    fmt = '.3f' if normalize else 'd'\n",
    "    thresh = cm.max() / 2.\n",
    "    for i, j in itertools.product(range(cm.shape[0]), range(cm.shape[1])):\n",
    "        plt.text(j, i, format(cm[i, j], fmt),\n",
    "                 horizontalalignment=\"center\",\n",
    "                 color=\"white\" if cm[i, j] > thresh else \"black\",\n",
    "                 fontproperties=font)\n",
    "\n",
    "    plt.tight_layout()\n",
    "    plt.ylabel('True label')\n",
    "    plt.xlabel('Predicted label')\n",
    "\n",
    "# Compute confusion matrix\n",
    "cnf_matrix = confusion_matrix(y_test, y_pred)\n",
    "np.set_printoptions(precision=3)\n",
    "class_names = [-1, 0, 1]\n",
    "\n",
    "# Plot non-normalized confusion matrix\n",
    "plt.figure()\n",
    "plot_confusion_matrix(cnf_matrix, classes=class_names,\n",
    "                      title='Confusion matrix, without normalization')\n",
    "\n",
    "# Plot normalized confusion matrix\n",
    "plt.figure()\n",
    "plot_confusion_matrix(cnf_matrix, classes=class_names, normalize=True,\n",
    "                      title='Normalized confusion matrix')\n",
    "\n",
    "plt.show()"
   ]
  },
  {
   "cell_type": "markdown",
   "metadata": {},
   "source": [
    "The model seems to perform badly for predicting the 15 minutes return.\n",
    "One may try to predict a more long-term return (1-2 days) as the tweets are delayed and the intraday traders get the information quicker (as we saw in the correlation graph with the sentiment analysis score).\n",
    "\n",
    "Also, mutliple improvements could be explored:\n",
    "- Include regularization techniques (dropout etc..).\n",
    "- Use convolution and more complex structures to account for the complexity of the data (http://www.aclweb.org/anthology/D14-1181).\n",
    "- Use more evolved techniques in order to summarize the information in the data and deleting the noise (event detection for instance : https://fenix.tecnico.ulisboa.pt/downloadFile/1689244997255675/Resumo%20Alargado%20-%20MEE%20-%2066020%20-%20Mariana%20-%20Daniel.pdf).\n",
    "- Retrain the word2vec on financial data (bloomberg..), so it would be more specialized in the domain."
   ]
  },
  {
   "cell_type": "markdown",
   "metadata": {},
   "source": [
    "&copy; 2018 Kitquant LLC."
   ]
  }
 ],
 "metadata": {
  "kernelspec": {
   "display_name": "Python 3",
   "language": "python",
   "name": "python3"
  },
  "language_info": {
   "codemirror_mode": {
    "name": "ipython",
    "version": 3
   },
   "file_extension": ".py",
   "mimetype": "text/x-python",
   "name": "python",
   "nbconvert_exporter": "python",
   "pygments_lexer": "ipython3",
   "version": "3.6.3"
  }
 },
 "nbformat": 4,
 "nbformat_minor": 2
}
